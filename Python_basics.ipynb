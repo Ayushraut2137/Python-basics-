{
  "nbformat": 4,
  "nbformat_minor": 0,
  "metadata": {
    "colab": {
      "provenance": []
    },
    "kernelspec": {
      "name": "python3",
      "display_name": "Python 3"
    },
    "language_info": {
      "name": "python"
    }
  },
  "cells": [
    {
      "cell_type": "markdown",
      "source": [
        "#Python Basics\n"
      ],
      "metadata": {
        "id": "JZEf06YOz_TA"
      }
    },
    {
      "cell_type": "markdown",
      "source": [
        "1. What is Python, and why is it popular?\n",
        "-> Python is a high-level, interpreted programming language known for its\n",
        "   simplicity, readability, and versatility. It supports multiple programming paradigms, including procedural, object-oriented, and functional programming.\n",
        "   Python is popular beacuse of the following points :\n",
        "   a. Easy to Learn and Use\n",
        "   b. Versatile and Multi-Paradigm:\n",
        "      Python supports multiple programming paradigms, including procedural, object-oriented, and functional programming. This flexibility allows developers to choose the best approach for their projects.\n",
        "   c. Extensive Libraries and Frameworks:\n",
        "      Python has a vast ecosystem of libraries and frameworks, such as:\n",
        "      Numpy, pandas, seaborn, matplotlib, Tenserflow, Pytorch, flask and django\n",
        "   d. Strong Community Support\n",
        "   e.  Cross-Platform Compatibility\n",
        "   \n",
        "\n",
        "2. What is an interpreter in Python?\n",
        "-> An interpreter in Python is a program that executes Python code line by  \n",
        "   line, translating it into machine-readable instructions.\n",
        "   Python's interpreter directly processes the code, making development faster and more flexible.\n",
        "\n",
        "\n",
        "3. What are pre-defined keywords in Python?\n",
        "-> Predefined keywords (reserved words) in Python are special words that have a\n",
        "   fixed meaning in the language and cannot be used as variable names, function names, or identifiers.\n",
        "   These keywords define the syntax and structure of Python programs.\n",
        "   E.g - None, is, in, True, False, import, return, etc.\n",
        "\n",
        "\n",
        "4. Can keywords be used as variable names?\n",
        "-> No, keywords cannot be used as variable names in Python. Since keywords have\n",
        "   predefined meanings in the language, using them as variable names would cause syntax errors.\n",
        "\n",
        "\n",
        "5. What is mutability in Python?\n",
        "-> Mutability in python refers to whether an object can be modified after its   creation.\n",
        "   When an object is mutable, its data can be changed in place without altering its memory address. However, for immutable objects, any change creates a new object in memory rather than modifying the original one.\n",
        "   Mutable objects allow modifications after they are created. These modifications can occur without changing the object's memory address.\n",
        "\n",
        "6. Why are lists mutable, but tuples are immutable?\n",
        "-> a. Lists are mutable because they are designed to be dynamic. Python allows\n",
        "   elements to be added, removed, or changed without changing the memory address.\n",
        "   Lists store references to objects in a resizable array, allowing modifications.\n",
        "   b. Tuples are immutable because they are meant to be static. Once created, their elements cannot be changed, making them memory-efficient and faster.\n",
        "   Tuples store references in a fixed structure, preventing changes.\n",
        "\n",
        "\n",
        "7. What is the difference between “==” and “is” operators in Python?\n",
        "-> a. \"==\" operator (equality operator)\n",
        "     Compares the contents of two objects.\n",
        "     Checks if values are the same (regardless of memory location).\n",
        "     \"==\" operator is used for comparing values.\n",
        "   b. \"is\" operator (Identity Operator)\n",
        "      Checks if two variables refer to the same object in memory (i.e., memory address comparison).\n",
        "      \"is\" operator checks if two variables reference the same object.\n",
        "\n",
        "\n",
        "8. What are logical operators in Python?\n",
        "-> Logical operators in Python are operators that combine multiple conditions\n",
        "   and return a boolean value (True or False) based on logical relationships.\n",
        "   Python has three logical operators:\n",
        "   and → Returns True if both conditions are True.\n",
        "   or → Returns True if at least one condition is True.\n",
        "   not → Reverses the boolean value of a condition (True becomes False and vice versa).\n",
        "\n",
        "\n",
        "9. What is type casting in Python?\n",
        "-> Type casting in Python is the process of converting one data type into\n",
        "   another.\n",
        "   It can be done in two ways:\n",
        "   a. Explicit Type Casting (Manual) → Using built-in functions like int(), float(), str(), etc.\n",
        "   b. Implicit Type Casting (Automatic) → Python automatically converts types when no data loss occurs.\n",
        "\n",
        "\n",
        "10. What is the difference between implicit and explicit type casting?\n",
        "-> a. Implicit Type Casting (Automatic Conversion):\n",
        "      Implicit Type Casting (automatic type conversion) is the process where Python automatically converts one data type into another without explicit intervention from the programmer.\n",
        "      This usually happens when converting a smaller data type (like int) into a larger one (like float) to avoid data loss.\n",
        "      Implicit type casting allows Python to handle different data types efficiently without risking data loss.\n",
        "      Python does not implicitly convert types if there’s a risk of losing information.\n",
        "   b. Explicit Type Casting :\n",
        "      Explicit Type Casting (manual type conversion) is when a programmer manually converts one data type into another using built-in functions. This is necessary when Python does not perform automatic conversion (implicit casting) due to the risk of data loss or incompatibility.\n",
        "       It allows programmers to control conversions and handle incompatible data types manually.\n",
        "\n",
        "\n",
        "11. What is the purpose of conditional statements in Python?\n",
        "-> Conditional statements in Python are used to execute different blocks of  \n",
        "   code based on conditions.\n",
        "   They allow the program to make decisions and control the flow of execution.\n",
        "   Purpose of conditional statements -\n",
        "   a. Decision Making - Execute specific code only if a condition is met.\n",
        "   b. Control Flow -  Direct the program to follow different paths based on\n",
        "      conditions.\n",
        "   c. Code Efficiency - Avoid unnecessary execution of code blocks.\n",
        "   d. Implementing Logic -  Used in loops, functions, and algorithms for  \n",
        "      dynamic behavior.\n",
        "\n",
        "\n",
        "12. How does the elif statement work?\n",
        "-> The elif statement in Python is used for multi-way decision-making. It\n",
        "   allows you to check multiple conditions sequentially and execute the first block of code where the condition evaluates to True.\n",
        "   elif statement workflow -\n",
        "   a. The if statement is checked first.\n",
        "   b. If if is True, its block executes, and the rest of the elif and else\n",
        "      blocks are skipped.\n",
        "   c. If if is False, Python checks the first elif condition.\n",
        "   d. If an elif condition is True, its block executes, and Python skips the\n",
        "      rest.\n",
        "   e. If none of the conditions are True, the else block (if provided) runs.\n",
        "\n",
        "\n",
        "13. What is the difference between for and while loops?\n",
        "-> a. For loop -\n",
        "      A for loop is used when you know how many times you need to iterate. It is commonly used with sequences like lists, tuples, strings, or range().\n",
        "      Use a for loop when you know how many times the loop should run (e.g., looping over a list, range(), or a string).\n",
        "   b. While loop -\n",
        "      A while loop is used when you don’t know how many times you need to iterate in advance. It runs as long as a certain condition remains True.\n",
        "      Use a while loop when you don’t know in advance how many times the loop should run (e.g., waiting for user input, checking a condition that may change).\n",
        "\n",
        "  \n",
        "14. Describe a scenario where a while loop is more suitable than a for loop.\n",
        "-> A while loop is more suitable than a for loop when the number of iterations\n",
        "   is not known in advance and depends on a condition being met.\n",
        "   Scenario: User Input Validation -\n",
        "   Imagine you are creating a program that asks a user to enter a password. You want the program to keep asking for the correct password until the user enters it correctly. In this case, a while loop is more suitable because you dont know how many attempts the user will need."
      ],
      "metadata": {
        "id": "_a6FHjZw0Vkw"
      }
    },
    {
      "cell_type": "code",
      "execution_count": 1,
      "metadata": {
        "colab": {
          "base_uri": "https://localhost:8080/"
        },
        "id": "xAUo700MzsYh",
        "outputId": "43545492-38a3-48bf-9e84-6cfb8c29a606"
      },
      "outputs": [
        {
          "output_type": "stream",
          "name": "stdout",
          "text": [
            "Hello, World!\n"
          ]
        }
      ],
      "source": [
        "# Write a Python program to print \"Hello, World!\n",
        "\n",
        "print(\"Hello, World!\")"
      ]
    },
    {
      "cell_type": "code",
      "source": [
        "# Write a Python program that displays your name and age\n",
        "\n",
        "# Define name and age\n",
        "name = \"ayush raut\"\n",
        "age = 24\n",
        "\n",
        "print(\"My name is\", name)\n",
        "print(\"I am\", age, \"years old\")\n"
      ],
      "metadata": {
        "colab": {
          "base_uri": "https://localhost:8080/"
        },
        "id": "vBbdrZ2xD31J",
        "outputId": "88b0db42-a1ec-4569-90ad-ca7d93daecfe"
      },
      "execution_count": 2,
      "outputs": [
        {
          "output_type": "stream",
          "name": "stdout",
          "text": [
            "My name is ayush raut\n",
            "I am 24 years old\n"
          ]
        }
      ]
    },
    {
      "cell_type": "code",
      "source": [
        "# Write code to print all the pre-defined keywords in Python using the keyword library\n",
        "\n",
        "import keyword\n",
        "# Print all Python keywords\n",
        "print(\"Python Keywords:\")\n",
        "print(keyword.kwlist)\n",
        "\n"
      ],
      "metadata": {
        "colab": {
          "base_uri": "https://localhost:8080/"
        },
        "id": "pDmxFUVrESom",
        "outputId": "538f626f-9b58-4de6-ad16-e7ba02bae398"
      },
      "execution_count": 4,
      "outputs": [
        {
          "output_type": "stream",
          "name": "stdout",
          "text": [
            "Python Keywords:\n",
            "['False', 'None', 'True', 'and', 'as', 'assert', 'async', 'await', 'break', 'class', 'continue', 'def', 'del', 'elif', 'else', 'except', 'finally', 'for', 'from', 'global', 'if', 'import', 'in', 'is', 'lambda', 'nonlocal', 'not', 'or', 'pass', 'raise', 'return', 'try', 'while', 'with', 'yield']\n"
          ]
        }
      ]
    },
    {
      "cell_type": "code",
      "source": [
        "# Write a program that checks if a given word is a Python keyword\n",
        "\n",
        "import keyword\n",
        "\n",
        "word = input(\"Enter a word: \")\n",
        "if keyword.iskeyword(word):\n",
        "    print(f\"'{word}' is a Python keyword.\")\n",
        "else:\n",
        "    print(f\"'{word}' is NOT a Python keyword.\")\n"
      ],
      "metadata": {
        "colab": {
          "base_uri": "https://localhost:8080/"
        },
        "id": "ib1TPUMlEqxi",
        "outputId": "fe808427-fcc4-4ff6-9e3f-84be98080cce"
      },
      "execution_count": 7,
      "outputs": [
        {
          "output_type": "stream",
          "name": "stdout",
          "text": [
            "Enter a word: True\n",
            "'True' is a Python keyword.\n"
          ]
        }
      ]
    },
    {
      "cell_type": "code",
      "source": [
        "# Create a list and tuple in Python, and demonstrate how attempting to change an element works differently for each.\n",
        "\n",
        "# Creating a list (mutable)\n",
        "my_list = [10, 20, 30]\n",
        "print(\"Original List:\", my_list)\n",
        "\n",
        "# Modifying an element in the list\n",
        "my_list[1] = 50\n",
        "print(\"Modified List:\", my_list)  # Successfully updates the second element\n",
        "\n",
        "# Creating a tuple (immutable)\n",
        "my_tuple = (10, 20, 30)\n",
        "print(\"\\nOriginal Tuple:\", my_tuple)\n",
        "\n",
        "# Attempting to modify an element in the tuple (this will cause an error)\n",
        "try:\n",
        "    my_tuple[1] = 50  # This will raise a TypeError\n",
        "except TypeError as e:\n",
        "    print(\"Error:\", e)\n"
      ],
      "metadata": {
        "colab": {
          "base_uri": "https://localhost:8080/"
        },
        "id": "bqdbx4gqFK5K",
        "outputId": "b65b3392-38a0-44c7-b3d4-2b8aa9bd9681"
      },
      "execution_count": 10,
      "outputs": [
        {
          "output_type": "stream",
          "name": "stdout",
          "text": [
            "Original List: [10, 20, 30]\n",
            "Modified List: [10, 50, 30]\n",
            "\n",
            "Original Tuple: (10, 20, 30)\n",
            "Error: 'tuple' object does not support item assignment\n"
          ]
        }
      ]
    },
    {
      "cell_type": "code",
      "source": [
        "# Write a function to demonstrate the behavior of mutable and immutable arguments\n",
        "\n",
        "def modify_data(mutable_dict, immutable_str):\n",
        "    # Modify the mutable dictionary\n",
        "    mutable_dict[\"age\"] = 30\n",
        "\n",
        "    # Modify the immutable string\n",
        "    immutable_str += \" World\"\n",
        "\n",
        "    print(\"Inside function (mutable):\", mutable_dict)\n",
        "    print(\"Inside function (immutable):\", immutable_str)\n",
        "\n",
        "# Create a mutable dictionary and an immutable string\n",
        "my_dict = {\"name\": \"Alice\", \"age\": 25}  # Mutable\n",
        "my_string = \"Hello\"  # Immutable\n",
        "\n",
        "print(\"Before function call (mutable):\", my_dict)\n",
        "print(\"Before function call (immutable):\", my_string)\n",
        "\n",
        "# Call the function\n",
        "modify_data(my_dict, my_string)\n",
        "\n",
        "print(\"After function call (mutable):\", my_dict)  # Dictionary is modified\n",
        "print(\"After function call (immutable):\", my_string)  # String remains unchanged\n",
        "\n"
      ],
      "metadata": {
        "colab": {
          "base_uri": "https://localhost:8080/"
        },
        "id": "-OQ3kvzhGSmJ",
        "outputId": "3a48432f-3f80-45b0-e072-971282491b0d"
      },
      "execution_count": 11,
      "outputs": [
        {
          "output_type": "stream",
          "name": "stdout",
          "text": [
            "Before function call (mutable): {'name': 'Alice', 'age': 25}\n",
            "Before function call (immutable): Hello\n",
            "Inside function (mutable): {'name': 'Alice', 'age': 30}\n",
            "Inside function (immutable): Hello World\n",
            "After function call (mutable): {'name': 'Alice', 'age': 30}\n",
            "After function call (immutable): Hello\n"
          ]
        }
      ]
    },
    {
      "cell_type": "code",
      "source": [
        "# Write a function to demonstrate the behavior of mutable and immutable arguments\n",
        "\n",
        "def modify_data(mutable_dict, immutable_str):\n",
        "    # Modify the mutable dictionary\n",
        "    mutable_dict[\"age\"] = 30\n",
        "\n",
        "    # Modify the immutable string\n",
        "    immutable_str += \" World\"\n",
        "\n",
        "    print(\"Inside function (mutable):\", mutable_dict)\n",
        "    print(\"Inside function (immutable):\", immutable_str)\n",
        "\n",
        "# Create a mutable dictionary and an immutable string\n",
        "my_dict = {\"name\": \"Alice\", \"age\": 25}  # Mutable\n",
        "my_string = \"Hello\"  # Immutable\n",
        "\n",
        "print(\"Before function call (mutable):\", my_dict)\n",
        "print(\"Before function call (immutable):\", my_string)\n",
        "\n",
        "# Call the function\n",
        "modify_data(my_dict, my_string)\n",
        "\n",
        "print(\"After function call (mutable):\", my_dict)  # Dictionary is modified\n",
        "print(\"After function call (immutable):\", my_string)  # String remains unchanged\n",
        "\n"
      ],
      "metadata": {
        "colab": {
          "base_uri": "https://localhost:8080/"
        },
        "id": "blsESRnbHTLF",
        "outputId": "926f7328-a8e2-482b-ecbe-9f2850af7946"
      },
      "execution_count": 12,
      "outputs": [
        {
          "output_type": "stream",
          "name": "stdout",
          "text": [
            "Before function call (mutable): {'name': 'Alice', 'age': 25}\n",
            "Before function call (immutable): Hello\n",
            "Inside function (mutable): {'name': 'Alice', 'age': 30}\n",
            "Inside function (immutable): Hello World\n",
            "After function call (mutable): {'name': 'Alice', 'age': 30}\n",
            "After function call (immutable): Hello\n"
          ]
        }
      ]
    },
    {
      "cell_type": "code",
      "source": [
        "# Write a program to demonstrate the use of logical operators\n",
        "\n",
        "age = int(input(\"Enter your age: \"))\n",
        "has_ID = input(\"Do you have an ID? (yes/no): \").strip().lower() == \"yes\"\n",
        "\n",
        "# Using logical operators\n",
        "is_adult = age >= 18\n",
        "can_vote = is_adult and has_ID  # Both conditions must be True\n",
        "can_get_discount = age < 18 or age > 60  # At least one condition must be True\n",
        "not_minor = not (age < 18)  # Reverses the condition\n",
        "\n",
        "# Display results\n",
        "print(\"\\nLogical Operator Demonstration:\")\n",
        "print(\"Is the person an adult?\", is_adult)\n",
        "print(\"Can the person vote?\", can_vote)\n",
        "print(\"Can the person get a discount?\", can_get_discount)\n",
        "print(\"Is the person NOT a minor?\", not_minor)\n"
      ],
      "metadata": {
        "colab": {
          "base_uri": "https://localhost:8080/"
        },
        "id": "6ATHbHS6Hn4f",
        "outputId": "342edfef-06f2-4efc-9bc2-350a45323cd3"
      },
      "execution_count": 14,
      "outputs": [
        {
          "output_type": "stream",
          "name": "stdout",
          "text": [
            "Enter your age: 5\n",
            "Do you have an ID? (yes/no): no\n",
            "\n",
            "Logical Operator Demonstration:\n",
            "Is the person an adult? False\n",
            "Can the person vote? False\n",
            "Can the person get a discount? True\n",
            "Is the person NOT a minor? False\n"
          ]
        }
      ]
    },
    {
      "cell_type": "code",
      "source": [
        "#  Write a Python program to convert user input from string to integer, float, and boolean types\n",
        "\n",
        "# Take user input as a string\n",
        "user_input = input(\"Enter a value: \")\n",
        "\n",
        "# Convert to integer\n",
        "try:\n",
        "    int_value = int(user_input)\n",
        "    print(\"Integer conversion:\", int_value)\n",
        "except ValueError:\n",
        "    print(\"Cannot convert to integer.\")\n",
        "\n",
        "# Convert to float\n",
        "try:\n",
        "    float_value = float(user_input)\n",
        "    print(\"Float conversion:\", float_value)\n",
        "except ValueError:\n",
        "    print(\"Cannot convert to float.\")\n",
        "\n",
        "# Convert to boolean\n",
        "bool_value = bool(user_input)  # Any non-empty string is True\n",
        "print(\"Boolean conversion:\", bool_value)\n"
      ],
      "metadata": {
        "colab": {
          "base_uri": "https://localhost:8080/"
        },
        "id": "IfzuTNtXIjKs",
        "outputId": "65d90b06-a5c8-45a6-eded-7a6b6bd599a0"
      },
      "execution_count": 17,
      "outputs": [
        {
          "output_type": "stream",
          "name": "stdout",
          "text": [
            "Enter a value: \n",
            "Cannot convert to integer.\n",
            "Cannot convert to float.\n",
            "Boolean conversion: False\n"
          ]
        }
      ]
    },
    {
      "cell_type": "code",
      "source": [
        "# Write code to demonstrate type casting with list elements\n",
        "\n",
        "str_list = [\"10\", \"20.5\", \"0\", \"True\", \"\", \"hello\"]\n",
        "\n",
        "# Convert to integer (only valid numbers can be converted)\n",
        "int_list = []\n",
        "for item in str_list:\n",
        "    try:\n",
        "        int_list.append(int(item))\n",
        "    except ValueError:\n",
        "        int_list.append(None)  # Use None for invalid conversions\n",
        "\n",
        "# Convert to float (only valid numbers can be converted)\n",
        "float_list = []\n",
        "for item in str_list:\n",
        "    try:\n",
        "        float_list.append(float(item))\n",
        "    except ValueError:\n",
        "        float_list.append(None)\n",
        "\n",
        "# Convert to boolean\n",
        "bool_list = [bool(item) for item in str_list]  # Empty string -> False, others -> True\n",
        "\n",
        "# Print results\n",
        "print(\"Original List: \", str_list)\n",
        "print(\"Integer List:  \", int_list)\n",
        "print(\"Float List:    \", float_list)\n",
        "print(\"Boolean List:  \", bool_list)\n"
      ],
      "metadata": {
        "colab": {
          "base_uri": "https://localhost:8080/"
        },
        "id": "rgFtU0kVI-7D",
        "outputId": "2a6c5d1e-bae5-4113-9550-2db7c27588ae"
      },
      "execution_count": 23,
      "outputs": [
        {
          "output_type": "stream",
          "name": "stdout",
          "text": [
            "Original List:  ['10', '20.5', '0', 'True', '', 'hello']\n",
            "Integer List:   [10, None, 0, None, None, None]\n",
            "Float List:     [10.0, 20.5, 0.0, None, None, None]\n",
            "Boolean List:   [True, True, True, True, False, True]\n"
          ]
        }
      ]
    },
    {
      "cell_type": "code",
      "source": [
        "# Write a program that checks if a number is positive, negative, or zero\n",
        "\n",
        "num = float(input(\"Enter a number: \"))\n",
        "if num > 0:\n",
        "    print(\"The number is positive.\")\n",
        "elif num < 0:\n",
        "    print(\"The number is negative.\")\n",
        "else:\n",
        "    print(\"The number is zero.\")\n"
      ],
      "metadata": {
        "colab": {
          "base_uri": "https://localhost:8080/"
        },
        "id": "pUWRKLHiJ4Px",
        "outputId": "3f54b918-7acf-423d-9b8a-5dd449258dba"
      },
      "execution_count": 19,
      "outputs": [
        {
          "output_type": "stream",
          "name": "stdout",
          "text": [
            "Enter a number: 22\n",
            "The number is positive.\n"
          ]
        }
      ]
    },
    {
      "cell_type": "code",
      "source": [
        "# Write a for loop to print numbers from 1 to 10\n",
        "\n",
        "print(\"Numbers from 1 to 10:\")\n",
        "\n",
        "for num in range(1, 11):\n",
        "    print(num)\n"
      ],
      "metadata": {
        "colab": {
          "base_uri": "https://localhost:8080/"
        },
        "id": "uqPWi2WYKQix",
        "outputId": "454af0d2-349d-4d35-f1a3-a487bab9be35"
      },
      "execution_count": 20,
      "outputs": [
        {
          "output_type": "stream",
          "name": "stdout",
          "text": [
            "Numbers from 1 to 10:\n",
            "1\n",
            "2\n",
            "3\n",
            "4\n",
            "5\n",
            "6\n",
            "7\n",
            "8\n",
            "9\n",
            "10\n"
          ]
        }
      ]
    },
    {
      "cell_type": "code",
      "source": [
        "# Write a Python program to find the sum of all even numbers between 1 and 50\n",
        "\n",
        "sum_even = 0\n",
        "for num in range(2, 51, 2):\n",
        "    sum_even += num\n",
        "# Print the result\n",
        "print(\"The sum of all even numbers between 1 and 50 is:\", sum_even)\n"
      ],
      "metadata": {
        "colab": {
          "base_uri": "https://localhost:8080/"
        },
        "id": "hQ0zQNoKKs6t",
        "outputId": "221dc5b8-0e3f-4597-dccb-2397a895f5f5"
      },
      "execution_count": 21,
      "outputs": [
        {
          "output_type": "stream",
          "name": "stdout",
          "text": [
            "The sum of all even numbers between 1 and 50 is: 650\n"
          ]
        }
      ]
    },
    {
      "cell_type": "code",
      "source": [
        "#  Write a program to reverse a string using a while loop\n",
        "string = input(\"Enter a string: \")\n",
        "\n",
        "reversed_string = \"\"\n",
        "index = len(string) - 1\n",
        "\n",
        "while index >= 0:\n",
        "    reversed_string += string[index]\n",
        "    index -= 1\n",
        "# Print the reversed string\n",
        "print(\"Reversed string:\", reversed_string)\n"
      ],
      "metadata": {
        "colab": {
          "base_uri": "https://localhost:8080/"
        },
        "id": "Xt3wD8IRLLyg",
        "outputId": "4af57ba3-afac-4895-cc5b-52aba51b2344"
      },
      "execution_count": 22,
      "outputs": [
        {
          "output_type": "stream",
          "name": "stdout",
          "text": [
            "Enter a string: ayush\n",
            "Reversed string: hsuya\n"
          ]
        }
      ]
    },
    {
      "cell_type": "code",
      "source": [
        "# Write a Python program to calculate the factorial of a number provided by the user using a while loop.\n",
        "\n",
        "num = int(input(\"Enter a number: \"))\n",
        "\n",
        "factorial = 1\n",
        "i = num\n",
        "# While loop to calculate factorial\n",
        "while i > 0:\n",
        "    factorial *= i  # Multiply the current value of i\n",
        "    i -= 1\n",
        "\n",
        "# Print the result\n",
        "print(f\"The factorial of {num} is: {factorial}\")\n"
      ],
      "metadata": {
        "colab": {
          "base_uri": "https://localhost:8080/"
        },
        "id": "ik2DEJR4LvJz",
        "outputId": "11f9ea66-a32f-41fc-9ded-d8db70d73aaa"
      },
      "execution_count": 24,
      "outputs": [
        {
          "output_type": "stream",
          "name": "stdout",
          "text": [
            "Enter a number: 22\n",
            "The factorial of 22 is: 1124000727777607680000\n"
          ]
        }
      ]
    },
    {
      "cell_type": "markdown",
      "source": [],
      "metadata": {
        "id": "D_ZKp5Du0U1v"
      }
    }
  ]
}